{
 "cells": [
  {
   "cell_type": "markdown",
   "id": "15468bb2",
   "metadata": {},
   "source": [
    "### Accent Classification POC - SpeechBrain"
   ]
  },
  {
   "cell_type": "code",
   "execution_count": null,
   "id": "2cc8b5d2",
   "metadata": {},
   "outputs": [],
   "source": [
    "! pip install speechbrain\n",
    "! pip install -U torch torchaudio --no-cache-dir"
   ]
  },
  {
   "cell_type": "code",
   "execution_count": 3,
   "id": "97571f09",
   "metadata": {},
   "outputs": [
    {
     "name": "stderr",
     "output_type": "stream",
     "text": [
      "Some weights of the model checkpoint at facebook/wav2vec2-large-xlsr-53 were not used when initializing Wav2Vec2Model: ['quantizer.weight_proj.weight', 'project_hid.bias', 'project_q.weight', 'quantizer.codevectors', 'project_hid.weight', 'quantizer.weight_proj.bias', 'project_q.bias']\n",
      "- This IS expected if you are initializing Wav2Vec2Model from the checkpoint of a model trained on another task or with another architecture (e.g. initializing a BertForSequenceClassification model from a BertForPreTraining model).\n",
      "- This IS NOT expected if you are initializing Wav2Vec2Model from the checkpoint of a model that you expect to be exactly identical (initializing a BertForSequenceClassification model from a BertForSequenceClassification model).\n",
      "speechbrain.lobes.models.huggingface_wav2vec - wav2vec 2.0 is frozen.\n"
     ]
    },
    {
     "name": "stdout",
     "output_type": "stream",
     "text": [
      "['australia']\n",
      "['australia']\n"
     ]
    }
   ],
   "source": [
    "\n",
    "from speechbrain.pretrained.interfaces import foreign_class\n",
    "\n",
    "classifier = foreign_class(source=\"Jzuluaga/accent-id-commonaccent_xlsr-en-english\", pymodule_file=\"custom_interface.py\", classname=\"CustomEncoderWav2vec2Classifier\")\n",
    "\n",
    "# US Accent Example\n",
    "out_prob, score, index, text_lab = classifier.classify_file('/Users/zp3146/Desktop/projects_hamza/accent_classification/resources/audio/english_aus.mp3')\n",
    "print(text_lab)\n",
    "\n",
    "# Philippines Example\n",
    "out_prob, score, index, text_lab = classifier.classify_file('/Users/zp3146/Desktop/projects_hamza/accent_classification/resources/audio/english_aus.mp3')\n",
    "print(text_lab)\n"
   ]
  },
  {
   "cell_type": "markdown",
   "id": "2248492f",
   "metadata": {},
   "source": []
  }
 ],
 "metadata": {
  "kernelspec": {
   "display_name": "accent_classification",
   "language": "python",
   "name": "python3"
  },
  "language_info": {
   "codemirror_mode": {
    "name": "ipython",
    "version": 3
   },
   "file_extension": ".py",
   "mimetype": "text/x-python",
   "name": "python",
   "nbconvert_exporter": "python",
   "pygments_lexer": "ipython3",
   "version": "3.10.0"
  }
 },
 "nbformat": 4,
 "nbformat_minor": 5
}
