{
 "cells": [
  {
   "cell_type": "code",
   "execution_count": null,
   "id": "04e91d23",
   "metadata": {},
   "outputs": [],
   "source": [
    "! pip install gTTS pydub\n",
    "! brew install ffmpeg  # for macOS\n"
   ]
  },
  {
   "cell_type": "code",
   "execution_count": null,
   "id": "bc302af6",
   "metadata": {},
   "outputs": [],
   "source": [
    "import os\n",
    "os.environ[\"PATH\"] += os.pathsep + \"/opt/homebrew/bin\"\n",
    "\n",
    "# Confirm ffmpeg is now discoverable\n",
    "import shutil\n",
    "print(\"FFmpeg path:\", shutil.which(\"ffmpeg\"))"
   ]
  },
  {
   "cell_type": "code",
   "execution_count": null,
   "id": "2c414c19",
   "metadata": {},
   "outputs": [],
   "source": [
    "from gtts import gTTS\n",
    "from pydub import AudioSegment\n",
    "\n",
    "text = \"Hi, good morning, how are you?\"\n",
    "\n",
    "accents = {\n",
    "    \"english_us\": (\"en\", \"com\"),\n",
    "    \"english_uk\": (\"en\", \"co.uk\"),\n",
    "    \"english_aus\": (\"en\", \"com.au\"),\n",
    "}\n",
    "\n",
    "for name, (lang, tld) in accents.items():\n",
    "    tts = gTTS(text=text, lang=lang, tld=tld)\n",
    "    mp3_path = f\"{name}.mp3\"\n",
    "    wav_path = f\"{name}.wav\"\n",
    "    tts.save(mp3_path)\n",
    "\n",
    "    sound = AudioSegment.from_mp3(mp3_path)\n",
    "    sound.export(wav_path, format=\"wav\")\n",
    "    print(f\"Generated: {wav_path}\")\n"
   ]
  }
 ],
 "metadata": {
  "kernelspec": {
   "display_name": "project-accent-classification",
   "language": "python",
   "name": "python3"
  },
  "language_info": {
   "codemirror_mode": {
    "name": "ipython",
    "version": 3
   },
   "file_extension": ".py",
   "mimetype": "text/x-python",
   "name": "python",
   "nbconvert_exporter": "python",
   "pygments_lexer": "ipython3",
   "version": "3.12.0"
  }
 },
 "nbformat": 4,
 "nbformat_minor": 5
}
